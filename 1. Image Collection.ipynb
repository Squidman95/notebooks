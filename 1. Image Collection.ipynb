{
 "cells": [
  {
   "cell_type": "markdown",
   "metadata": {},
   "source": [
    "# 1. Import Dependencies"
   ]
  },
  {
   "cell_type": "code",
   "execution_count": 1,
   "metadata": {},
   "outputs": [
    {
     "name": "stdout",
     "output_type": "stream",
     "text": [
      "Requirement already satisfied: opencv-python in c:\\users\\sebas\\notebooks\\tfod\\lib\\site-packages (4.5.5.64)\n",
      "Requirement already satisfied: numpy>=1.14.5 in c:\\users\\sebas\\notebooks\\tfod\\lib\\site-packages (from opencv-python) (1.22.3)\n"
     ]
    }
   ],
   "source": [
    "!pip install opencv-python"
   ]
  },
  {
   "cell_type": "code",
   "execution_count": 2,
   "metadata": {},
   "outputs": [],
   "source": [
    "import os"
   ]
  },
  {
   "cell_type": "code",
   "execution_count": 3,
   "metadata": {},
   "outputs": [],
   "source": [
    "import uuid"
   ]
  },
  {
   "cell_type": "code",
   "execution_count": 4,
   "metadata": {},
   "outputs": [],
   "source": [
    "import time"
   ]
  },
  {
   "cell_type": "code",
   "execution_count": 5,
   "metadata": {},
   "outputs": [],
   "source": [
    "import cv2"
   ]
  },
  {
   "cell_type": "code",
   "execution_count": 6,
   "metadata": {},
   "outputs": [],
   "source": [
    "# Import opencv\n",
    "import cv2 \n",
    "\n",
    "# Import uuid\n",
    "import uuid\n",
    "\n",
    "# Import Operating System\n",
    "import os\n",
    "\n",
    "# Import time\n",
    "import time"
   ]
  },
  {
   "cell_type": "markdown",
   "metadata": {},
   "source": [
    "# 2. Define Images to Collect"
   ]
  },
  {
   "cell_type": "code",
   "execution_count": 10,
   "metadata": {},
   "outputs": [],
   "source": [
    "labels = ['ace', 'jack', 'queen', 'king']\n",
    "number_imgs = 5"
   ]
  },
  {
   "cell_type": "code",
   "execution_count": 7,
   "metadata": {},
   "outputs": [],
   "source": [
    "labels = ['phone', 'cup', 'spray', 'keys', 'k13', 'h11']\n",
    "number_imgs = 5"
   ]
  },
  {
   "cell_type": "markdown",
   "metadata": {},
   "source": [
    "# 3. Setup Folders "
   ]
  },
  {
   "cell_type": "code",
   "execution_count": 8,
   "metadata": {},
   "outputs": [],
   "source": [
    "IMAGES_PATH = os.path.join('Tensorflow', 'workspace', 'images', 'collectedimages')"
   ]
  },
  {
   "cell_type": "code",
   "execution_count": 9,
   "metadata": {},
   "outputs": [],
   "source": [
    "if not os.path.exists(IMAGES_PATH):\n",
    "    if os.name == 'posix':\n",
    "        !mkdir -p {IMAGES_PATH}\n",
    "    if os.name == 'nt':\n",
    "         !mkdir {IMAGES_PATH}\n",
    "for label in labels:\n",
    "    path = os.path.join(IMAGES_PATH, label)\n",
    "    if not os.path.exists(path):\n",
    "        !mkdir {path}"
   ]
  },
  {
   "cell_type": "markdown",
   "metadata": {},
   "source": [
    "# 4. Capture Images"
   ]
  },
  {
   "cell_type": "code",
   "execution_count": 21,
   "metadata": {},
   "outputs": [
    {
     "name": "stdout",
     "output_type": "stream",
     "text": [
      "Collecting images for phone\n",
      "Collecting image 0\n",
      "Collecting image 1\n",
      "Collecting image 2\n",
      "Collecting image 3\n",
      "Collecting image 4\n",
      "Collecting images for cup\n",
      "Collecting image 0\n",
      "Collecting image 1\n",
      "Collecting image 2\n",
      "Collecting image 3\n",
      "Collecting image 4\n",
      "Collecting images for spray\n",
      "Collecting image 0\n",
      "Collecting image 1\n",
      "Collecting image 2\n",
      "Collecting image 3\n",
      "Collecting image 4\n",
      "Collecting images for keys\n",
      "Collecting image 0\n",
      "Collecting image 1\n",
      "Collecting image 2\n",
      "Collecting image 3\n",
      "Collecting image 4\n"
     ]
    }
   ],
   "source": [
    "for label in labels:\n",
    "    cap = cv2.VideoCapture(0)\n",
    "    print('Collecting images for {}'.format(label))\n",
    "    time.sleep(5)\n",
    "    for imgnum in range(number_imgs):\n",
    "        print('Collecting image {}'.format(imgnum))\n",
    "        ret, frame = cap.read()\n",
    "        imgname = os.path.join(IMAGES_PATH,label,label+'.'+'{}.jpg'.format(str(uuid.uuid1())))\n",
    "        cv2.imwrite(imgname, frame)\n",
    "        cv2.imshow('frame', frame)\n",
    "        time.sleep(2)\n",
    "\n",
    "        if cv2.waitKey(1) & 0xFF == ord('q'):\n",
    "            break\n",
    "cap.release()\n",
    "cv2.destroyAllWindows()"
   ]
  },
  {
   "cell_type": "markdown",
   "metadata": {},
   "source": [
    "# 5. Image Labelling"
   ]
  },
  {
   "cell_type": "code",
   "execution_count": 10,
   "metadata": {},
   "outputs": [
    {
     "name": "stdout",
     "output_type": "stream",
     "text": [
      "Requirement already satisfied: pyqt5 in c:\\users\\sebas\\notebooks\\tfod\\lib\\site-packages (5.15.6)\n",
      "Requirement already satisfied: lxml in c:\\users\\sebas\\notebooks\\tfod\\lib\\site-packages (4.8.0)\n",
      "Requirement already satisfied: PyQt5-Qt5>=5.15.2 in c:\\users\\sebas\\notebooks\\tfod\\lib\\site-packages (from pyqt5) (5.15.2)\n",
      "Requirement already satisfied: PyQt5-sip<13,>=12.8 in c:\\users\\sebas\\notebooks\\tfod\\lib\\site-packages (from pyqt5) (12.9.1)\n"
     ]
    }
   ],
   "source": [
    "!pip install --upgrade pyqt5 lxml"
   ]
  },
  {
   "cell_type": "code",
   "execution_count": 11,
   "metadata": {},
   "outputs": [],
   "source": [
    "LABELIMG_PATH = os.path.join('Tensorflow', 'labelimg')"
   ]
  },
  {
   "cell_type": "code",
   "execution_count": 12,
   "metadata": {},
   "outputs": [],
   "source": [
    "if not os.path.exists(LABELIMG_PATH):\n",
    "    !mkdir {LABELIMG_PATH}\n",
    "    !git clone https://github.com/tzutalin/labelImg {LABELIMG_PATH}"
   ]
  },
  {
   "cell_type": "code",
   "execution_count": 13,
   "metadata": {},
   "outputs": [],
   "source": [
    "if os.name == 'posix':\n",
    "    !make qt5py3\n",
    "if os.name =='nt':\n",
    "    !cd {LABELIMG_PATH} && pyrcc5 -o libs/resources.py resources.qrc"
   ]
  },
  {
   "cell_type": "code",
   "execution_count": 14,
   "metadata": {},
   "outputs": [
    {
     "name": "stdout",
     "output_type": "stream",
     "text": [
      "Image:C:\\Users\\sebas\\notebooks\\Tensorflow\\workspace\\images\\collectedimages\\k13\\277316303_1009286489723260_42361693543938252_n.jpg -> Annotation:C:/Users/sebas/notebooks/Tensorflow/workspace/images/collectedimages/k13/277316303_1009286489723260_42361693543938252_n.xml\n",
      "Image:C:\\Users\\sebas\\notebooks\\Tensorflow\\workspace\\images\\collectedimages\\k13\\277321584_757321118767127_8647942094825378827_n.jpg -> Annotation:C:/Users/sebas/notebooks/Tensorflow/workspace/images/collectedimages/k13/277321584_757321118767127_8647942094825378827_n.xml\n",
      "ESC press\n",
      "Cancel creation.\n",
      "Image:C:\\Users\\sebas\\notebooks\\Tensorflow\\workspace\\images\\collectedimages\\k13\\277346791_1191621221241909_5210073234957050833_n.jpg -> Annotation:C:/Users/sebas/notebooks/Tensorflow/workspace/images/collectedimages/k13/277346791_1191621221241909_5210073234957050833_n.xml\n",
      "Image:C:\\Users\\sebas\\notebooks\\Tensorflow\\workspace\\images\\collectedimages\\k13\\277350203_1301481283693414_5620438412099653900_n.jpg -> Annotation:C:/Users/sebas/notebooks/Tensorflow/workspace/images/collectedimages/k13/277350203_1301481283693414_5620438412099653900_n.xml\n",
      "Image:C:\\Users\\sebas\\notebooks\\Tensorflow\\workspace\\images\\collectedimages\\k13\\277358009_484945669969127_1302823144458109377_n.jpg -> Annotation:C:/Users/sebas/notebooks/Tensorflow/workspace/images/collectedimages/k13/277358009_484945669969127_1302823144458109377_n.xml\n",
      "Image:C:\\Users\\sebas\\notebooks\\Tensorflow\\workspace\\images\\collectedimages\\k13\\277360159_1256989108162662_3936518209869284629_n.jpg -> Annotation:C:/Users/sebas/notebooks/Tensorflow/workspace/images/collectedimages/k13/277360159_1256989108162662_3936518209869284629_n.xml\n",
      "Image:C:\\Users\\sebas\\notebooks\\Tensorflow\\workspace\\images\\collectedimages\\k13\\277400987_396152688550731_1270022544160429489_n.jpg -> Annotation:C:/Users/sebas/notebooks/Tensorflow/workspace/images/collectedimages/k13/277400987_396152688550731_1270022544160429489_n.xml\n",
      "Image:C:\\Users\\sebas\\notebooks\\Tensorflow\\workspace\\images\\collectedimages\\k13\\277401393_2058266064355187_4830440053809279598_n.jpg -> Annotation:C:/Users/sebas/notebooks/Tensorflow/workspace/images/collectedimages/k13/277401393_2058266064355187_4830440053809279598_n.xml\n",
      "Image:C:\\Users\\sebas\\notebooks\\Tensorflow\\workspace\\images\\collectedimages\\k13\\277430562_940956446567390_2505026650913722937_n.jpg -> Annotation:C:/Users/sebas/notebooks/Tensorflow/workspace/images/collectedimages/k13/277430562_940956446567390_2505026650913722937_n.xml\n",
      "Image:C:\\Users\\sebas\\notebooks\\Tensorflow\\workspace\\images\\collectedimages\\k13\\277316303_1009286489723260_42361693543938252_n.jpg -> Annotation:C:/Users/sebas/notebooks/Tensorflow/workspace/images/collectedimages/k13/277316303_1009286489723260_42361693543938252_n.xml\n",
      "Image:C:\\Users\\sebas\\notebooks\\Tensorflow\\workspace\\images\\collectedimages\\k13\\277321584_757321118767127_8647942094825378827_n.jpg -> Annotation:C:/Users/sebas/notebooks/Tensorflow/workspace/images/collectedimages/k13/277321584_757321118767127_8647942094825378827_n.xml\n",
      "Image:C:\\Users\\sebas\\notebooks\\Tensorflow\\workspace\\images\\collectedimages\\k13\\277346791_1191621221241909_5210073234957050833_n.jpg -> Annotation:C:/Users/sebas/notebooks/Tensorflow/workspace/images/collectedimages/k13/277346791_1191621221241909_5210073234957050833_n.xml\n",
      "Image:C:\\Users\\sebas\\notebooks\\Tensorflow\\workspace\\images\\collectedimages\\k13\\277350203_1301481283693414_5620438412099653900_n.jpg -> Annotation:C:/Users/sebas/notebooks/Tensorflow/workspace/images/collectedimages/k13/277350203_1301481283693414_5620438412099653900_n.xml\n",
      "Image:C:\\Users\\sebas\\notebooks\\Tensorflow\\workspace\\images\\collectedimages\\k13\\277358009_484945669969127_1302823144458109377_n.jpg -> Annotation:C:/Users/sebas/notebooks/Tensorflow/workspace/images/collectedimages/k13/277358009_484945669969127_1302823144458109377_n.xml\n",
      "Image:C:\\Users\\sebas\\notebooks\\Tensorflow\\workspace\\images\\collectedimages\\k13\\277360159_1256989108162662_3936518209869284629_n.jpg -> Annotation:C:/Users/sebas/notebooks/Tensorflow/workspace/images/collectedimages/k13/277360159_1256989108162662_3936518209869284629_n.xml\n",
      "Image:C:\\Users\\sebas\\notebooks\\Tensorflow\\workspace\\images\\collectedimages\\k13\\277400987_396152688550731_1270022544160429489_n.jpg -> Annotation:C:/Users/sebas/notebooks/Tensorflow/workspace/images/collectedimages/k13/277400987_396152688550731_1270022544160429489_n.xml\n",
      "Image:C:\\Users\\sebas\\notebooks\\Tensorflow\\workspace\\images\\collectedimages\\k13\\277401393_2058266064355187_4830440053809279598_n.jpg -> Annotation:C:/Users/sebas/notebooks/Tensorflow/workspace/images/collectedimages/k13/277401393_2058266064355187_4830440053809279598_n.xml\n",
      "Image:C:\\Users\\sebas\\notebooks\\Tensorflow\\workspace\\images\\collectedimages\\k13\\277430562_940956446567390_2505026650913722937_n.jpg -> Annotation:C:/Users/sebas/notebooks/Tensorflow/workspace/images/collectedimages/k13/277430562_940956446567390_2505026650913722937_n.xml\n",
      "Cancel creation.\n",
      "Image:C:\\Users\\sebas\\notebooks\\Tensorflow\\workspace\\images\\collectedimages\\k13\\277537705_703623924400582_8623530775282404998_n.jpg -> Annotation:C:/Users/sebas/notebooks/Tensorflow/workspace/images/collectedimages/k13/277537705_703623924400582_8623530775282404998_n.xml\n",
      "Image:C:\\Users\\sebas\\notebooks\\Tensorflow\\workspace\\images\\collectedimages\\k13\\277580209_5327001447312077_8385184728295718241_n.jpg -> Annotation:C:/Users/sebas/notebooks/Tensorflow/workspace/images/collectedimages/k13/277580209_5327001447312077_8385184728295718241_n.xml\n",
      "Image:C:\\Users\\sebas\\notebooks\\Tensorflow\\workspace\\images\\collectedimages\\k13\\277610059_770850584321947_1881411858783552874_n.jpg -> Annotation:C:/Users/sebas/notebooks/Tensorflow/workspace/images/collectedimages/k13/277610059_770850584321947_1881411858783552874_n.xml\n",
      "Image:C:\\Users\\sebas\\notebooks\\Tensorflow\\workspace\\images\\collectedimages\\h11\\277346791_1191621221241909_5210073234957050833_n.jpg -> Annotation:C:/Users/sebas/notebooks/Tensorflow/workspace/images/collectedimages/h11/277346791_1191621221241909_5210073234957050833_n.xml\n",
      "Image:C:\\Users\\sebas\\notebooks\\Tensorflow\\workspace\\images\\collectedimages\\h11\\277350203_1301481283693414_5620438412099653900_n.jpg -> Annotation:C:/Users/sebas/notebooks/Tensorflow/workspace/images/collectedimages/h11/277350203_1301481283693414_5620438412099653900_n.xml\n",
      "Image:C:\\Users\\sebas\\notebooks\\Tensorflow\\workspace\\images\\collectedimages\\h11\\277358009_484945669969127_1302823144458109377_n.jpg -> Annotation:C:/Users/sebas/notebooks/Tensorflow/workspace/images/collectedimages/h11/277358009_484945669969127_1302823144458109377_n.xml\n",
      "Image:C:\\Users\\sebas\\notebooks\\Tensorflow\\workspace\\images\\collectedimages\\h11\\277359273_982410825730408_4547858462880902957_n.jpg -> Annotation:C:/Users/sebas/notebooks/Tensorflow/workspace/images/collectedimages/h11/277359273_982410825730408_4547858462880902957_n.xml\n",
      "Image:C:\\Users\\sebas\\notebooks\\Tensorflow\\workspace\\images\\collectedimages\\h11\\277359990_1068097387436462_648442745037177967_n.jpg -> Annotation:C:/Users/sebas/notebooks/Tensorflow/workspace/images/collectedimages/h11/277359990_1068097387436462_648442745037177967_n.xml\n",
      "Image:C:\\Users\\sebas\\notebooks\\Tensorflow\\workspace\\images\\collectedimages\\h11\\277360159_1256989108162662_3936518209869284629_n.jpg -> Annotation:C:/Users/sebas/notebooks/Tensorflow/workspace/images/collectedimages/h11/277360159_1256989108162662_3936518209869284629_n.xml\n",
      "Image:C:\\Users\\sebas\\notebooks\\Tensorflow\\workspace\\images\\collectedimages\\h11\\277420826_3174561642871586_2857431506810603385_n.jpg -> Annotation:C:/Users/sebas/notebooks/Tensorflow/workspace/images/collectedimages/h11/277420826_3174561642871586_2857431506810603385_n.xml\n",
      "Cancel creation.\n",
      "Image:C:\\Users\\sebas\\notebooks\\Tensorflow\\workspace\\images\\collectedimages\\h11\\277430562_940956446567390_2505026650913722937_n.jpg -> Annotation:C:/Users/sebas/notebooks/Tensorflow/workspace/images/collectedimages/h11/277430562_940956446567390_2505026650913722937_n.xml\n",
      "Image:C:\\Users\\sebas\\notebooks\\Tensorflow\\workspace\\images\\collectedimages\\h11\\277537705_703623924400582_8623530775282404998_n.jpg -> Annotation:C:/Users/sebas/notebooks/Tensorflow/workspace/images/collectedimages/h11/277537705_703623924400582_8623530775282404998_n.xml\n",
      "Image:C:\\Users\\sebas\\notebooks\\Tensorflow\\workspace\\images\\collectedimages\\h11\\277580209_5327001447312077_8385184728295718241_n.jpg -> Annotation:C:/Users/sebas/notebooks/Tensorflow/workspace/images/collectedimages/h11/277580209_5327001447312077_8385184728295718241_n.xml\n",
      "Image:C:\\Users\\sebas\\notebooks\\Tensorflow\\workspace\\images\\collectedimages\\h11\\277597985_1470976693318112_1922035116678780554_n.jpg -> Annotation:C:/Users/sebas/notebooks/Tensorflow/workspace/images/collectedimages/h11/277597985_1470976693318112_1922035116678780554_n.xml\n"
     ]
    }
   ],
   "source": [
    "!cd {LABELIMG_PATH} && python labelImg.py"
   ]
  },
  {
   "cell_type": "markdown",
   "metadata": {},
   "source": [
    "# 6. Move them into a Training and Testing Partition"
   ]
  },
  {
   "cell_type": "markdown",
   "metadata": {},
   "source": [
    "# OPTIONAL - 7. Compress them for Colab Training"
   ]
  },
  {
   "cell_type": "code",
   "execution_count": 20,
   "metadata": {},
   "outputs": [],
   "source": [
    "TRAIN_PATH = os.path.join('Tensorflow', 'workspace', 'images', 'train')\n",
    "TEST_PATH = os.path.join('Tensorflow', 'workspace', 'images', 'test')\n",
    "ARCHIVE_PATH = os.path.join('Tensorflow', 'workspace', 'images', 'archive.tar.gz')"
   ]
  },
  {
   "cell_type": "code",
   "execution_count": 21,
   "metadata": {},
   "outputs": [],
   "source": [
    "!tar -czf {ARCHIVE_PATH} {TRAIN_PATH} {TEST_PATH}"
   ]
  },
  {
   "cell_type": "code",
   "execution_count": null,
   "metadata": {},
   "outputs": [],
   "source": []
  }
 ],
 "metadata": {
  "kernelspec": {
   "display_name": "tfodj",
   "language": "python",
   "name": "tfodj"
  },
  "language_info": {
   "codemirror_mode": {
    "name": "ipython",
    "version": 3
   },
   "file_extension": ".py",
   "mimetype": "text/x-python",
   "name": "python",
   "nbconvert_exporter": "python",
   "pygments_lexer": "ipython3",
   "version": "3.9.7"
  }
 },
 "nbformat": 4,
 "nbformat_minor": 2
}
